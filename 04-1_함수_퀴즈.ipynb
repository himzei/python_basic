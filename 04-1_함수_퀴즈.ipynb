{
 "cells": [
  {
   "cell_type": "markdown",
   "metadata": {},
   "source": [
    "퀴즈 1: 덧셈 함수 만들기\n",
    "문제: 두 개의 숫자를 입력받아 그 합을 반환하는 함수를 작성하세요.\n",
    "* 함수이름은 add_number"
   ]
  },
  {
   "cell_type": "markdown",
   "metadata": {},
   "source": [
    "퀴즈 2: 짝수 확인 함수 만들기\n",
    "문제: 주어진 숫자가 짝수인지 홀수인지 판별하는 함수를 작성하세요.\n",
    "\n"
   ]
  },
  {
   "cell_type": "markdown",
   "metadata": {},
   "source": [
    "퀴즈 3: 리스트에서 최대값 찾기\n",
    "문제: 주어진 리스트에서 최대값을 찾는 함수를 작성하세요.\n",
    "* max() 함수를 사용하지 않고 직접 구현해보세요.\n"
   ]
  },
  {
   "cell_type": "markdown",
   "metadata": {},
   "source": [
    "퀴즈 4: 구구단 출력하기\n",
    "문제: 주어진 숫자에 대해 구구단을 출력하는 함수를 작성하세요."
   ]
  },
  {
   "cell_type": "markdown",
   "metadata": {},
   "source": [
    "퀴즈 5. 날짜 2024-08-21 10:00 를 24년 8월 21일로 바꾸는 함수를 만들어 주세요 "
   ]
  },
  {
   "cell_type": "markdown",
   "metadata": {},
   "source": [
    "퀴즈 6: 특정 단어 세기\n",
    "문제: 주어진 문장에서 특정 단어가 몇 번 나타나는지 세는 함수를 작성하세요.\n",
    "* 함수이름은 count_word\n",
    "* 함수는 두 개의 매개변수 sentence와 word를 받아야 합니다.\n",
    "\n"
   ]
  },
  {
   "cell_type": "markdown",
   "metadata": {},
   "source": []
  }
 ],
 "metadata": {
  "kernelspec": {
   "display_name": "Python 3",
   "language": "python",
   "name": "python3"
  },
  "language_info": {
   "codemirror_mode": {
    "name": "ipython",
    "version": 3
   },
   "file_extension": ".py",
   "mimetype": "text/x-python",
   "name": "python",
   "nbconvert_exporter": "python",
   "pygments_lexer": "ipython3",
   "version": "3.12.3"
  }
 },
 "nbformat": 4,
 "nbformat_minor": 2
}
