{
 "cells": [
  {
   "cell_type": "code",
   "execution_count": 1,
   "metadata": {},
   "outputs": [],
   "source": [
    "import datetime"
   ]
  },
  {
   "cell_type": "code",
   "execution_count": 2,
   "metadata": {},
   "outputs": [],
   "source": [
    "day1 = datetime.date(2021, 12, 14)\n",
    "day2 = datetime.date(2023, 4, 5)"
   ]
  },
  {
   "cell_type": "code",
   "execution_count": 5,
   "metadata": {},
   "outputs": [
    {
     "data": {
      "text/plain": [
       "477"
      ]
     },
     "execution_count": 5,
     "metadata": {},
     "output_type": "execute_result"
    }
   ],
   "source": [
    "diff = day2 - day1\n",
    "diff.days"
   ]
  },
  {
   "cell_type": "code",
   "execution_count": 6,
   "metadata": {},
   "outputs": [
    {
     "data": {
      "text/plain": [
       "477"
      ]
     },
     "execution_count": 6,
     "metadata": {},
     "output_type": "execute_result"
    }
   ],
   "source": [
    "(day2 - day1).days"
   ]
  },
  {
   "cell_type": "code",
   "execution_count": 7,
   "metadata": {},
   "outputs": [
    {
     "data": {
      "text/plain": [
       "4"
      ]
     },
     "execution_count": 7,
     "metadata": {},
     "output_type": "execute_result"
    }
   ],
   "source": [
    "day = datetime.date(2024, 8, 2)\n",
    "day.weekday()\n",
    "\n",
    "# 0은 월요일, 1은 화요일 .... 6은 일요일"
   ]
  },
  {
   "cell_type": "code",
   "execution_count": 8,
   "metadata": {},
   "outputs": [
    {
     "data": {
      "text/plain": [
       "5"
      ]
     },
     "execution_count": 8,
     "metadata": {},
     "output_type": "execute_result"
    }
   ],
   "source": [
    "day.isoweekday()\n",
    "\n",
    "# 1은 월요일, 2는 화요일 ... 7은 일요일"
   ]
  },
  {
   "cell_type": "markdown",
   "metadata": {},
   "source": [
    "> time\n",
    "* time.time() UTC를 사용하여 현재 시간을 실수 형태로 리턴"
   ]
  },
  {
   "cell_type": "code",
   "execution_count": 9,
   "metadata": {},
   "outputs": [
    {
     "data": {
      "text/plain": [
       "1722567922.530886"
      ]
     },
     "execution_count": 9,
     "metadata": {},
     "output_type": "execute_result"
    }
   ],
   "source": [
    "import time \n",
    "time.time()\n"
   ]
  },
  {
   "cell_type": "code",
   "execution_count": 11,
   "metadata": {},
   "outputs": [
    {
     "data": {
      "text/plain": [
       "time.struct_time(tm_year=2024, tm_mon=8, tm_mday=2, tm_hour=12, tm_min=6, tm_sec=3, tm_wday=4, tm_yday=215, tm_isdst=0)"
      ]
     },
     "execution_count": 11,
     "metadata": {},
     "output_type": "execute_result"
    }
   ],
   "source": [
    "time.localtime(time.time())"
   ]
  },
  {
   "cell_type": "code",
   "execution_count": 13,
   "metadata": {},
   "outputs": [
    {
     "data": {
      "text/plain": [
       "'Fri Aug  2 12:06:49 2024'"
      ]
     },
     "execution_count": 13,
     "metadata": {},
     "output_type": "execute_result"
    }
   ],
   "source": [
    "time.asctime(time.localtime(time.time()))"
   ]
  },
  {
   "cell_type": "code",
   "execution_count": 14,
   "metadata": {},
   "outputs": [
    {
     "data": {
      "text/plain": [
       "'Fri Aug  2 12:07:22 2024'"
      ]
     },
     "execution_count": 14,
     "metadata": {},
     "output_type": "execute_result"
    }
   ],
   "source": [
    "time.ctime()"
   ]
  },
  {
   "cell_type": "code",
   "execution_count": 35,
   "metadata": {},
   "outputs": [
    {
     "name": "stdout",
     "output_type": "stream",
     "text": [
      "%a Fri\n",
      "%A Friday\n",
      "%b Aug\n",
      "%B August\n",
      "%c Fri Aug  2 12:25:55 2024\n",
      "%x 08/02/24\n",
      "%H 24시간 출력상태 12\n",
      "%i 12시간 출력상태 12\n",
      "%j 1년중 누적날짜 215\n",
      "%m 월 08\n",
      "%M 분 25\n",
      "%p pm/am PM\n",
      "%S 초 55\n",
      "%U 1년 중 누적주 30\n",
      "%x 현재 설정된 지역에 기반한 날자 08/02/24\n",
      "%X 현재 설정된 지역에 기반한 시간 12:25:55\n",
      "%Y 연도출력 2024\n",
      "%z 시간대출력 +0900\n",
      "2024-08-02\n"
     ]
    }
   ],
   "source": [
    "# 요일의 줄임말 Mon\n",
    "print(\"%a\", time.strftime(\"%a\", time.localtime(time.time())))\n",
    "\n",
    "# 요일\n",
    "print(\"%A\", time.strftime(\"%A\", time.localtime(time.time())))\n",
    "\n",
    "\n",
    "print(\"%b\", time.strftime(\"%b\", time.localtime(time.time())))\n",
    "print(\"%B\", time.strftime(\"%B\", time.localtime(time.time())))\n",
    "\n",
    "print(\"%c\", time.strftime(\"%c\", time.localtime(time.time())))\n",
    "\n",
    "print(\"%x\", time.strftime(\"%x\", time.localtime(time.time())))\n",
    "\n",
    "print(\"%H 24시간 출력상태\", time.strftime(\"%H\", time.localtime(time.time())))\n",
    "print(\"%i 12시간 출력상태\", time.strftime(\"%I\", time.localtime(time.time())))\n",
    "print(\"%j 1년중 누적날짜\", time.strftime(\"%j\", time.localtime(time.time())))\n",
    "print(\"%m 월\", time.strftime(\"%m\", time.localtime(time.time())))\n",
    "print(\"%M 분\", time.strftime(\"%M\", time.localtime(time.time())))\n",
    "print(\"%p pm/am\", time.strftime(\"%p\", time.localtime(time.time())))\n",
    "print(\"%S 초\", time.strftime(\"%S\", time.localtime(time.time())))\n",
    "print(\"%U 1년 중 누적주\", time.strftime(\"%U\", time.localtime(time.time())))\n",
    "print(\"%x 현재 설정된 지역에 기반한 날자\", time.strftime(\"%x\", time.localtime(time.time())))\n",
    "print(\"%X 현재 설정된 지역에 기반한 시간\", time.strftime(\"%X\", time.localtime(time.time())))\n",
    "print(\"%Y 연도출력\", time.strftime(\"%Y\", time.localtime(time.time())))\n",
    "print(\"%z 시간대출력\", time.strftime(\"%z\", time.localtime(time.time())))\n",
    "print(time.strftime(\"%Y-%m-%d\", time.localtime(time.time())))"
   ]
  },
  {
   "cell_type": "markdown",
   "metadata": {},
   "source": [
    "> time.sleep()\n",
    "* 일정한 시간 간격을 두고 루프를 실행할 수 있다.  "
   ]
  },
  {
   "cell_type": "code",
   "execution_count": 39,
   "metadata": {},
   "outputs": [
    {
     "name": "stdout",
     "output_type": "stream",
     "text": [
      "0\n",
      "1\n",
      "2\n",
      "3\n",
      "4\n",
      "5\n",
      "6\n",
      "7\n",
      "8\n",
      "9\n"
     ]
    }
   ],
   "source": [
    "import time \n",
    "\n",
    "for i in range(10): \n",
    "    print(i)\n",
    "    time.sleep(5)\n",
    "\n",
    "# 1초 간격으로 실행"
   ]
  },
  {
   "cell_type": "code",
   "execution_count": 40,
   "metadata": {},
   "outputs": [
    {
     "data": {
      "text/plain": [
       "20"
      ]
     },
     "execution_count": 40,
     "metadata": {},
     "output_type": "execute_result"
    }
   ],
   "source": [
    "# 최대 공약수 \n",
    "\n",
    "import math\n",
    "math.gcd(60, 100, 80)"
   ]
  },
  {
   "cell_type": "code",
   "execution_count": 41,
   "metadata": {},
   "outputs": [
    {
     "data": {
      "text/plain": [
       "(3.0, 5.0, 4.0)"
      ]
     },
     "execution_count": 41,
     "metadata": {},
     "output_type": "execute_result"
    }
   ],
   "source": [
    "60/20, 100/20, 80/20"
   ]
  },
  {
   "cell_type": "code",
   "execution_count": 42,
   "metadata": {},
   "outputs": [
    {
     "data": {
      "text/plain": [
       "75"
      ]
     },
     "execution_count": 42,
     "metadata": {},
     "output_type": "execute_result"
    }
   ],
   "source": [
    "# 최소 공배수\n",
    "\n",
    "import math \n",
    "math.lcm(15, 25)"
   ]
  },
  {
   "cell_type": "code",
   "execution_count": 47,
   "metadata": {},
   "outputs": [
    {
     "data": {
      "text/plain": [
       "0.12189227485400467"
      ]
     },
     "execution_count": 47,
     "metadata": {},
     "output_type": "execute_result"
    }
   ],
   "source": [
    "# random 난수 생성기 \n",
    "import random\n",
    "random.random()"
   ]
  },
  {
   "cell_type": "code",
   "execution_count": 52,
   "metadata": {},
   "outputs": [
    {
     "data": {
      "text/plain": [
       "5"
      ]
     },
     "execution_count": 52,
     "metadata": {},
     "output_type": "execute_result"
    }
   ],
   "source": [
    "# 1~10까지의 난수 \n",
    "result = random.random() * 10\n",
    "int(result)"
   ]
  },
  {
   "cell_type": "code",
   "execution_count": 53,
   "metadata": {},
   "outputs": [
    {
     "data": {
      "text/plain": [
       "8"
      ]
     },
     "execution_count": 53,
     "metadata": {},
     "output_type": "execute_result"
    }
   ],
   "source": [
    "random.randint(1, 10)"
   ]
  },
  {
   "cell_type": "code",
   "execution_count": 54,
   "metadata": {},
   "outputs": [
    {
     "name": "stdout",
     "output_type": "stream",
     "text": [
      "2\n",
      "4\n",
      "5\n",
      "1\n",
      "3\n"
     ]
    }
   ],
   "source": [
    "import random \n",
    "\n",
    "def random_pop(data): \n",
    "    number = random.randint(0, len(data) -1)\n",
    "    return data.pop(number) \n",
    "\n",
    "if __name__ == \"__main__\": \n",
    "    data = [ 1, 2, 3, 4, 5] \n",
    "    while data: \n",
    "        print(random_pop(data))"
   ]
  },
  {
   "cell_type": "code",
   "execution_count": 1,
   "metadata": {},
   "outputs": [
    {
     "name": "stdout",
     "output_type": "stream",
     "text": [
      "[('한민서', '사탕'), ('유나현', '초콜릿'), ('조현일', '젤리')]\n"
     ]
    }
   ],
   "source": [
    "students = [\"한민서\", \"유나현\", \"조현일\", \"조은성\", \"이광수\", \"유재석\"]\n",
    "snacks = [\"사탕\", \"초콜릿\", \"젤리\"]\n",
    "\n",
    "result = zip(students, snacks) \n",
    "print(list(result))"
   ]
  },
  {
   "cell_type": "code",
   "execution_count": 2,
   "metadata": {},
   "outputs": [
    {
     "name": "stdout",
     "output_type": "stream",
     "text": [
      "[('한민서', '사탕'), ('유나현', '초콜릿'), ('조현일', '젤리'), ('조은성', '새우깡'), ('이광수', '새우깡'), ('유재석', '새우깡')]\n"
     ]
    }
   ],
   "source": [
    "import itertools \n",
    "\n",
    "result = itertools.zip_longest(students, snacks, fillvalue=\"새우깡\")\n",
    "print(list(result))"
   ]
  },
  {
   "cell_type": "markdown",
   "metadata": {},
   "source": [
    "> itertools.permutation \n",
    "반복 가능한 객체중에서 r개를 선택한 순열을 이터레이터로 리턴하는 함수 "
   ]
  },
  {
   "cell_type": "code",
   "execution_count": 5,
   "metadata": {},
   "outputs": [
    {
     "data": {
      "text/plain": [
       "[('1', '2', '3'),\n",
       " ('1', '2', '4'),\n",
       " ('1', '3', '2'),\n",
       " ('1', '3', '4'),\n",
       " ('1', '4', '2'),\n",
       " ('1', '4', '3'),\n",
       " ('2', '1', '3'),\n",
       " ('2', '1', '4'),\n",
       " ('2', '3', '1'),\n",
       " ('2', '3', '4'),\n",
       " ('2', '4', '1'),\n",
       " ('2', '4', '3'),\n",
       " ('3', '1', '2'),\n",
       " ('3', '1', '4'),\n",
       " ('3', '2', '1'),\n",
       " ('3', '2', '4'),\n",
       " ('3', '4', '1'),\n",
       " ('3', '4', '2'),\n",
       " ('4', '1', '2'),\n",
       " ('4', '1', '3'),\n",
       " ('4', '2', '1'),\n",
       " ('4', '2', '3'),\n",
       " ('4', '3', '1'),\n",
       " ('4', '3', '2')]"
      ]
     },
     "execution_count": 5,
     "metadata": {},
     "output_type": "execute_result"
    }
   ],
   "source": [
    "import itertools \n",
    "\n",
    "list(itertools.permutations([\"1\", \"2\", \"3\"], 2))\n",
    "list(itertools.permutations([\"1\", \"2\", \"3\", \"4\"], 3))"
   ]
  },
  {
   "cell_type": "code",
   "execution_count": 6,
   "metadata": {},
   "outputs": [
    {
     "name": "stdout",
     "output_type": "stream",
     "text": [
      "12\n",
      "13\n",
      "21\n",
      "23\n",
      "31\n",
      "32\n"
     ]
    }
   ],
   "source": [
    "for a, b in itertools.permutations([\"1\", \"2\", \"3\"], 2): \n",
    "    print(a + b)"
   ]
  },
  {
   "cell_type": "markdown",
   "metadata": {},
   "source": [
    "> itertools.combination(iterable, r)\n",
    "* 반목 가능 객체 중에서 r개를 선택한 조합을 이터레이터 리턴하는 함수"
   ]
  },
  {
   "cell_type": "code",
   "execution_count": 19,
   "metadata": {},
   "outputs": [],
   "source": [
    "import itertools \n",
    "it = itertools.combinations(range(1, 10), 6)"
   ]
  },
  {
   "cell_type": "code",
   "execution_count": 20,
   "metadata": {},
   "outputs": [
    {
     "data": {
      "text/plain": [
       "[(1, 2, 3, 4, 5, 6),\n",
       " (1, 2, 3, 4, 5, 7),\n",
       " (1, 2, 3, 4, 5, 8),\n",
       " (1, 2, 3, 4, 5, 9),\n",
       " (1, 2, 3, 4, 6, 7),\n",
       " (1, 2, 3, 4, 6, 8),\n",
       " (1, 2, 3, 4, 6, 9),\n",
       " (1, 2, 3, 4, 7, 8),\n",
       " (1, 2, 3, 4, 7, 9),\n",
       " (1, 2, 3, 4, 8, 9),\n",
       " (1, 2, 3, 5, 6, 7),\n",
       " (1, 2, 3, 5, 6, 8),\n",
       " (1, 2, 3, 5, 6, 9),\n",
       " (1, 2, 3, 5, 7, 8),\n",
       " (1, 2, 3, 5, 7, 9),\n",
       " (1, 2, 3, 5, 8, 9),\n",
       " (1, 2, 3, 6, 7, 8),\n",
       " (1, 2, 3, 6, 7, 9),\n",
       " (1, 2, 3, 6, 8, 9),\n",
       " (1, 2, 3, 7, 8, 9),\n",
       " (1, 2, 4, 5, 6, 7),\n",
       " (1, 2, 4, 5, 6, 8),\n",
       " (1, 2, 4, 5, 6, 9),\n",
       " (1, 2, 4, 5, 7, 8),\n",
       " (1, 2, 4, 5, 7, 9),\n",
       " (1, 2, 4, 5, 8, 9),\n",
       " (1, 2, 4, 6, 7, 8),\n",
       " (1, 2, 4, 6, 7, 9),\n",
       " (1, 2, 4, 6, 8, 9),\n",
       " (1, 2, 4, 7, 8, 9),\n",
       " (1, 2, 5, 6, 7, 8),\n",
       " (1, 2, 5, 6, 7, 9),\n",
       " (1, 2, 5, 6, 8, 9),\n",
       " (1, 2, 5, 7, 8, 9),\n",
       " (1, 2, 6, 7, 8, 9),\n",
       " (1, 3, 4, 5, 6, 7),\n",
       " (1, 3, 4, 5, 6, 8),\n",
       " (1, 3, 4, 5, 6, 9),\n",
       " (1, 3, 4, 5, 7, 8),\n",
       " (1, 3, 4, 5, 7, 9),\n",
       " (1, 3, 4, 5, 8, 9),\n",
       " (1, 3, 4, 6, 7, 8),\n",
       " (1, 3, 4, 6, 7, 9),\n",
       " (1, 3, 4, 6, 8, 9),\n",
       " (1, 3, 4, 7, 8, 9),\n",
       " (1, 3, 5, 6, 7, 8),\n",
       " (1, 3, 5, 6, 7, 9),\n",
       " (1, 3, 5, 6, 8, 9),\n",
       " (1, 3, 5, 7, 8, 9),\n",
       " (1, 3, 6, 7, 8, 9),\n",
       " (1, 4, 5, 6, 7, 8),\n",
       " (1, 4, 5, 6, 7, 9),\n",
       " (1, 4, 5, 6, 8, 9),\n",
       " (1, 4, 5, 7, 8, 9),\n",
       " (1, 4, 6, 7, 8, 9),\n",
       " (1, 5, 6, 7, 8, 9),\n",
       " (2, 3, 4, 5, 6, 7),\n",
       " (2, 3, 4, 5, 6, 8),\n",
       " (2, 3, 4, 5, 6, 9),\n",
       " (2, 3, 4, 5, 7, 8),\n",
       " (2, 3, 4, 5, 7, 9),\n",
       " (2, 3, 4, 5, 8, 9),\n",
       " (2, 3, 4, 6, 7, 8),\n",
       " (2, 3, 4, 6, 7, 9),\n",
       " (2, 3, 4, 6, 8, 9),\n",
       " (2, 3, 4, 7, 8, 9),\n",
       " (2, 3, 5, 6, 7, 8),\n",
       " (2, 3, 5, 6, 7, 9),\n",
       " (2, 3, 5, 6, 8, 9),\n",
       " (2, 3, 5, 7, 8, 9),\n",
       " (2, 3, 6, 7, 8, 9),\n",
       " (2, 4, 5, 6, 7, 8),\n",
       " (2, 4, 5, 6, 7, 9),\n",
       " (2, 4, 5, 6, 8, 9),\n",
       " (2, 4, 5, 7, 8, 9),\n",
       " (2, 4, 6, 7, 8, 9),\n",
       " (2, 5, 6, 7, 8, 9),\n",
       " (3, 4, 5, 6, 7, 8),\n",
       " (3, 4, 5, 6, 7, 9),\n",
       " (3, 4, 5, 6, 8, 9),\n",
       " (3, 4, 5, 7, 8, 9),\n",
       " (3, 4, 6, 7, 8, 9),\n",
       " (3, 5, 6, 7, 8, 9),\n",
       " (4, 5, 6, 7, 8, 9)]"
      ]
     },
     "execution_count": 20,
     "metadata": {},
     "output_type": "execute_result"
    }
   ],
   "source": [
    "list(it)"
   ]
  },
  {
   "cell_type": "markdown",
   "metadata": {},
   "source": [
    "> functools.reduce(function, iterable)\n",
    "* 객체의 요소에 차례대로 누적 적용하여 하나의 값으로 줄이는 함수 "
   ]
  },
  {
   "cell_type": "code",
   "execution_count": 21,
   "metadata": {},
   "outputs": [
    {
     "name": "stdout",
     "output_type": "stream",
     "text": [
      "21\n"
     ]
    }
   ],
   "source": [
    "def add(data): \n",
    "    result = 0 \n",
    "    for i in data: \n",
    "        result += i \n",
    "    return result \n",
    "\n",
    "data = [1, 2, 3, 4, 5, 6] \n",
    "result = add(data) \n",
    "print(result) \n",
    "    "
   ]
  },
  {
   "cell_type": "code",
   "execution_count": 22,
   "metadata": {},
   "outputs": [
    {
     "name": "stdout",
     "output_type": "stream",
     "text": [
      "15\n"
     ]
    }
   ],
   "source": [
    "import functools \n",
    "\n",
    "data = [1, 2, 3, 4, 5] \n",
    "result = functools.reduce(lambda x, y: x + y, data) \n",
    "print(result)"
   ]
  },
  {
   "cell_type": "code",
   "execution_count": 23,
   "metadata": {},
   "outputs": [
    {
     "name": "stdout",
     "output_type": "stream",
     "text": [
      "[('sally', 17, 'C'), ('jane', 22, 'A'), ('dave', 32, 'B')]\n"
     ]
    }
   ],
   "source": [
    "from operator import itemgetter \n",
    "\n",
    "students = [\n",
    "    (\"jane\", 22, \"A\"), \n",
    "    (\"dave\", 32, \"B\"), \n",
    "    (\"sally\", 17, \"C\")\n",
    "]\n",
    "# 튜플의 1번째 요소를 기준으로 정렬 \n",
    "# key=itemgetter(0)\n",
    "# 튜플의 2번째 요소를 기준으로 정렬 \n",
    "result = sorted(students, key=itemgetter(1))\n",
    "print(result)"
   ]
  },
  {
   "cell_type": "code",
   "execution_count": 25,
   "metadata": {},
   "outputs": [
    {
     "name": "stdout",
     "output_type": "stream",
     "text": [
      "[{'name': 'dave', 'age': 21, 'grade': 'B'}, {'name': 'jane', 'age': 22, 'grade': 'A'}, {'name': 'sally', 'age': 24, 'grade': 'C'}]\n"
     ]
    }
   ],
   "source": [
    "from operator import itemgetter \n",
    "\n",
    "students = [\n",
    "    {\"name\": \"jane\", \"age\": 22, \"grade\": \"A\"},\n",
    "    {\"name\": \"dave\", \"age\": 21, \"grade\": \"B\"},\n",
    "    {\"name\": \"sally\", \"age\": 24, \"grade\": \"C\"}\n",
    "]\n",
    "\n",
    "result = sorted(students, key=itemgetter(\"age\"))\n",
    "print(result)"
   ]
  },
  {
   "cell_type": "code",
   "execution_count": null,
   "metadata": {},
   "outputs": [],
   "source": []
  }
 ],
 "metadata": {
  "kernelspec": {
   "display_name": "Python 3",
   "language": "python",
   "name": "python3"
  },
  "language_info": {
   "codemirror_mode": {
    "name": "ipython",
    "version": 3
   },
   "file_extension": ".py",
   "mimetype": "text/x-python",
   "name": "python",
   "nbconvert_exporter": "python",
   "pygments_lexer": "ipython3",
   "version": "3.12.3"
  }
 },
 "nbformat": 4,
 "nbformat_minor": 2
}
