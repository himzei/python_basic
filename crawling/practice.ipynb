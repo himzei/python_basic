{
 "cells": [
  {
   "cell_type": "code",
   "execution_count": 16,
   "metadata": {},
   "outputs": [],
   "source": [
    "import requests\n",
    "from bs4 import BeautifulSoup \n",
    "\n",
    "res = requests.get(\"https://v.media.daum.net/v/20170615203441266\")\n",
    "\n",
    "soup = BeautifulSoup(res.content, \"html.parser\")"
   ]
  },
  {
   "cell_type": "code",
   "execution_count": 20,
   "metadata": {},
   "outputs": [
    {
     "data": {
      "text/plain": [
       "bs4.BeautifulSoup"
      ]
     },
     "execution_count": 20,
     "metadata": {},
     "output_type": "execute_result"
    }
   ],
   "source": [
    "type(soup)"
   ]
  },
  {
   "cell_type": "code",
   "execution_count": 29,
   "metadata": {},
   "outputs": [
    {
     "name": "stdout",
     "output_type": "stream",
     "text": [
      "숫자변화 3.14\n",
      "숫자변환 3.141590\n",
      "숫자변화 3.142\n",
      "숫자변화 3.1\n"
     ]
    }
   ],
   "source": [
    "a = 3.14159\n",
    "print(\"숫자변화 {:0.2f}\".format(a))\n",
    "print(\"숫자변환 %f\" % a)\n",
    "print(f\"숫자변화 {a:0.3f}\")\n",
    "print(f\"숫자변화 {3.14159:0.1f}\")"
   ]
  },
  {
   "cell_type": "code",
   "execution_count": 27,
   "metadata": {},
   "outputs": [
    {
     "name": "stdout",
     "output_type": "stream",
     "text": [
      "number: 3.123450\n",
      "number: 3.123450\n",
      "number: \n"
     ]
    }
   ],
   "source": [
    "b = 3.12345\n",
    "\n",
    "print(\"number: %f\"%b)\n",
    "print(\"number: {:f}\".format(b))\n",
    "print(\"number: \")"
   ]
  },
  {
   "cell_type": "code",
   "execution_count": null,
   "metadata": {},
   "outputs": [],
   "source": []
  }
 ],
 "metadata": {
  "kernelspec": {
   "display_name": "Python 3",
   "language": "python",
   "name": "python3"
  },
  "language_info": {
   "codemirror_mode": {
    "name": "ipython",
    "version": 3
   },
   "file_extension": ".py",
   "mimetype": "text/x-python",
   "name": "python",
   "nbconvert_exporter": "python",
   "pygments_lexer": "ipython3",
   "version": "3.12.3"
  }
 },
 "nbformat": 4,
 "nbformat_minor": 2
}
